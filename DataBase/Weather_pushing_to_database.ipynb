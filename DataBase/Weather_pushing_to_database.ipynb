{
 "cells": [
  {
   "cell_type": "code",
   "execution_count": 2,
   "id": "dcb11d87-1c05-435b-85f5-01786931d8cf",
   "metadata": {
    "id": "dcb11d87-1c05-435b-85f5-01786931d8cf"
   },
   "outputs": [],
   "source": [
    "import pandas as pd\n",
    "import requests\n",
    "from pytz import timezone\n",
    "from datetime import datetime\n",
    "import sqlalchemy\n",
    "# from Keys import MySQL_pass\n",
    "# from Keys import OW_API_key"
   ]
  },
  {
   "cell_type": "markdown",
   "id": "IgkV_ZfaqTN7",
   "metadata": {
    "id": "IgkV_ZfaqTN7"
   },
   "source": [
    "## Read the \"cities\" table from the database into the notebook\n",
    "\n",
    "1. With the OpenWeather API we need to use the name of the city in the url. We will use the \"cities\" table from our database to loop over the \"City_name\" column and thus implement them (one at a time) in the url.\n",
    "\n",
    "2. Since the weather dataframe (wich will contain the data we will get from the openweather API) will be related to the \"cities\" table in the database we need to get the corresponding city id from the cities table and implement it in the weather one (will become a foreign key here). This will be done during the for loop from above."
   ]
  },
  {
   "cell_type": "code",
   "execution_count": 5,
   "id": "abf176f1-49ce-4923-9895-0156bc1cec0d",
   "metadata": {
    "id": "abf176f1-49ce-4923-9895-0156bc1cec0d"
   },
   "outputs": [],
   "source": [
    "schema = \"gans_local\" # The name of your database\n",
    "host = \"127.0.0.1\"\n",
    "user = \"root\"\n",
    "password = \"PedregalNuria7178\" # Your MySQL password\n",
    "port = 3306\n",
    "\n",
    "connection_string = f'mysql+pymysql://{user}:{password}@{host}:{port}/{schema}'"
   ]
  },
  {
   "cell_type": "code",
   "execution_count": 7,
   "id": "c4d34bc4-02fb-4b69-942a-f928b60e0301",
   "metadata": {
    "id": "c4d34bc4-02fb-4b69-942a-f928b60e0301",
    "outputId": "4622a933-7c2f-4d58-9428-7c125d7a18af",
    "tags": []
   },
   "outputs": [
    {
     "data": {
      "text/html": [
       "<div>\n",
       "<style scoped>\n",
       "    .dataframe tbody tr th:only-of-type {\n",
       "        vertical-align: middle;\n",
       "    }\n",
       "\n",
       "    .dataframe tbody tr th {\n",
       "        vertical-align: top;\n",
       "    }\n",
       "\n",
       "    .dataframe thead th {\n",
       "        text-align: right;\n",
       "    }\n",
       "</style>\n",
       "<table border=\"1\" class=\"dataframe\">\n",
       "  <thead>\n",
       "    <tr style=\"text-align: right;\">\n",
       "      <th></th>\n",
       "      <th>City_id</th>\n",
       "      <th>City_name</th>\n",
       "      <th>Country</th>\n",
       "    </tr>\n",
       "  </thead>\n",
       "  <tbody>\n",
       "    <tr>\n",
       "      <th>0</th>\n",
       "      <td>1</td>\n",
       "      <td>Berlin</td>\n",
       "      <td>Germany</td>\n",
       "    </tr>\n",
       "    <tr>\n",
       "      <th>1</th>\n",
       "      <td>2</td>\n",
       "      <td>Hamburg</td>\n",
       "      <td>Germany</td>\n",
       "    </tr>\n",
       "    <tr>\n",
       "      <th>2</th>\n",
       "      <td>3</td>\n",
       "      <td>Munich</td>\n",
       "      <td>Germany</td>\n",
       "    </tr>\n",
       "  </tbody>\n",
       "</table>\n",
       "</div>"
      ],
      "text/plain": [
       "   City_id City_name  Country\n",
       "0        1    Berlin  Germany\n",
       "1        2   Hamburg  Germany\n",
       "2        3    Munich  Germany"
      ]
     },
     "execution_count": 7,
     "metadata": {},
     "output_type": "execute_result"
    }
   ],
   "source": [
    "cities_df = pd.read_sql(\"cities\", con=connection_string)\n",
    "cities_df"
   ]
  },
  {
   "cell_type": "code",
   "execution_count": null,
   "id": "31MRUuJXvHoN",
   "metadata": {
    "id": "31MRUuJXvHoN"
   },
   "outputs": [],
   "source": []
  },
  {
   "cell_type": "markdown",
   "id": "HQgl3xExvII5",
   "metadata": {
    "id": "HQgl3xExvII5"
   },
   "source": [
    "## Create a weather dataframe with info for all cities in the database"
   ]
  },
  {
   "cell_type": "code",
   "execution_count": 10,
   "id": "343b5680-8313-425c-9371-6c67395f120b",
   "metadata": {
    "id": "343b5680-8313-425c-9371-6c67395f120b"
   },
   "outputs": [],
   "source": [
    "berlin_timezone = timezone('Europe/Berlin')\n",
    "API_key = \"6dfcec3fec6bb7c3265fb6c07bb8e4c1\"\n",
    "weather_items = []"
   ]
  },
  {
   "cell_type": "code",
   "execution_count": 12,
   "id": "3815d268-174b-40e0-851f-e35c288fb7e9",
   "metadata": {
    "id": "3815d268-174b-40e0-851f-e35c288fb7e9",
    "outputId": "16902f28-ccee-4fce-d3d0-1caf1e6a33f7"
   },
   "outputs": [
    {
     "name": "stdout",
     "output_type": "stream",
     "text": [
      "Berlin\n",
      "Hamburg\n",
      "Munich\n"
     ]
    }
   ],
   "source": [
    "# For loop over the \"City_name\" column in the \"cities_df\"\n",
    "\n",
    "for i in cities_df[\"City_name\"]:\n",
    "    print(i)"
   ]
  },
  {
   "cell_type": "code",
   "execution_count": 14,
   "id": "50ef3acb-1818-444b-8c6d-8d80fe243b80",
   "metadata": {
    "id": "50ef3acb-1818-444b-8c6d-8d80fe243b80",
    "outputId": "b7590c38-07b5-4f00-bd02-3683d8f0513c"
   },
   "outputs": [
    {
     "data": {
      "text/plain": [
       "2"
      ]
     },
     "execution_count": 14,
     "metadata": {},
     "output_type": "execute_result"
    }
   ],
   "source": [
    "# Extracting the \"City_id\" from the cities table. This will be implemented in the for loop.\n",
    "cities_df.loc[cities_df[\"City_name\"] == \"Hamburg\", \"City_id\"].values[0]"
   ]
  },
  {
   "cell_type": "code",
   "execution_count": null,
   "id": "0f730193-97b6-422b-929e-5fe84945e751",
   "metadata": {
    "id": "0f730193-97b6-422b-929e-5fe84945e751",
    "outputId": "ae3a1605-ab56-4b12-e82e-47a84414f341"
   },
   "outputs": [
    {
     "data": {
      "text/plain": [
       "2"
      ]
     },
     "execution_count": 29,
     "metadata": {},
     "output_type": "execute_result"
    }
   ],
   "source": [
    "# Slightly different way to extract the \"City_id\"\n",
    "#cities_df.loc[cities_df[\"City_name\"] == \"Hamburg\", \"City_id\"].to_list()[0]"
   ]
  },
  {
   "cell_type": "code",
   "execution_count": 16,
   "id": "a7fd07b9-4a9a-4fff-80dd-87fea5ca6ae4",
   "metadata": {
    "id": "a7fd07b9-4a9a-4fff-80dd-87fea5ca6ae4",
    "tags": []
   },
   "outputs": [],
   "source": [
    "for city in cities_df[\"City_name\"]:\n",
    "    url = (f\"http://api.openweathermap.org/data/2.5/forecast?q={city}&appid={API_key}&units=metric\")\n",
    "    response = requests.get(url)\n",
    "    json = response.json()\n",
    "    # As we are now using the data from our relational database\n",
    "    # the city should reflect the city_id and not the city name\n",
    "    city_id = cities_df.loc[cities_df[\"City_name\"] == city, \"City_id\"].values[0]\n",
    "\n",
    "    retrieval_time = datetime.now(berlin_timezone).strftime(\"%Y-%m-%d %H:%M:%S\")\n",
    "\n",
    "    for item in json[\"list\"]:\n",
    "        weather_item = {\n",
    "            \"city_id\": city_id,\n",
    "            \"forecast_time\": item.get(\"dt_txt\", None),\n",
    "            \"outlook\": item[\"weather\"][0].get(\"description\", None),\n",
    "            \"temperature\": item[\"main\"].get(\"temp\", None),\n",
    "            \"feels_like\": item[\"main\"].get(\"feels_like\", None),\n",
    "            \"rain_in_last_3h\": item.get(\"rain\", {}).get(\"3h\", 0),\n",
    "            \"wind_speed\": item[\"wind\"].get(\"speed\", None),\n",
    "            \"rain_prob\": item.get(\"pop\", None),\n",
    "            \"data_retrieved_at\": retrieval_time\n",
    "        }\n",
    "\n",
    "        weather_items.append(weather_item)"
   ]
  },
  {
   "cell_type": "code",
   "execution_count": 18,
   "id": "b0bdaa1f-96b4-48fa-9ee5-c536b86c7ff8",
   "metadata": {
    "id": "b0bdaa1f-96b4-48fa-9ee5-c536b86c7ff8"
   },
   "outputs": [],
   "source": [
    "weather_df = pd.DataFrame(weather_items)"
   ]
  },
  {
   "cell_type": "code",
   "execution_count": 20,
   "id": "1732b01b-15fb-4bd0-8108-7f89b4a7579f",
   "metadata": {
    "id": "1732b01b-15fb-4bd0-8108-7f89b4a7579f",
    "outputId": "5b385960-eea5-4a3f-8053-63bfc6dbc797"
   },
   "outputs": [
    {
     "data": {
      "text/html": [
       "<div>\n",
       "<style scoped>\n",
       "    .dataframe tbody tr th:only-of-type {\n",
       "        vertical-align: middle;\n",
       "    }\n",
       "\n",
       "    .dataframe tbody tr th {\n",
       "        vertical-align: top;\n",
       "    }\n",
       "\n",
       "    .dataframe thead th {\n",
       "        text-align: right;\n",
       "    }\n",
       "</style>\n",
       "<table border=\"1\" class=\"dataframe\">\n",
       "  <thead>\n",
       "    <tr style=\"text-align: right;\">\n",
       "      <th></th>\n",
       "      <th>city_id</th>\n",
       "      <th>forecast_time</th>\n",
       "      <th>outlook</th>\n",
       "      <th>temperature</th>\n",
       "      <th>feels_like</th>\n",
       "      <th>rain_in_last_3h</th>\n",
       "      <th>wind_speed</th>\n",
       "      <th>rain_prob</th>\n",
       "      <th>data_retrieved_at</th>\n",
       "    </tr>\n",
       "  </thead>\n",
       "  <tbody>\n",
       "    <tr>\n",
       "      <th>0</th>\n",
       "      <td>1</td>\n",
       "      <td>2024-06-10 09:00:00</td>\n",
       "      <td>clear sky</td>\n",
       "      <td>15.98</td>\n",
       "      <td>15.07</td>\n",
       "      <td>0.00</td>\n",
       "      <td>3.61</td>\n",
       "      <td>0.0</td>\n",
       "      <td>2024-06-10 09:36:21</td>\n",
       "    </tr>\n",
       "    <tr>\n",
       "      <th>1</th>\n",
       "      <td>1</td>\n",
       "      <td>2024-06-10 12:00:00</td>\n",
       "      <td>few clouds</td>\n",
       "      <td>17.08</td>\n",
       "      <td>16.12</td>\n",
       "      <td>0.00</td>\n",
       "      <td>3.54</td>\n",
       "      <td>0.0</td>\n",
       "      <td>2024-06-10 09:36:21</td>\n",
       "    </tr>\n",
       "    <tr>\n",
       "      <th>2</th>\n",
       "      <td>1</td>\n",
       "      <td>2024-06-10 15:00:00</td>\n",
       "      <td>broken clouds</td>\n",
       "      <td>16.97</td>\n",
       "      <td>16.00</td>\n",
       "      <td>0.00</td>\n",
       "      <td>1.63</td>\n",
       "      <td>0.0</td>\n",
       "      <td>2024-06-10 09:36:21</td>\n",
       "    </tr>\n",
       "    <tr>\n",
       "      <th>3</th>\n",
       "      <td>1</td>\n",
       "      <td>2024-06-10 18:00:00</td>\n",
       "      <td>overcast clouds</td>\n",
       "      <td>15.75</td>\n",
       "      <td>14.97</td>\n",
       "      <td>0.00</td>\n",
       "      <td>2.02</td>\n",
       "      <td>0.0</td>\n",
       "      <td>2024-06-10 09:36:21</td>\n",
       "    </tr>\n",
       "    <tr>\n",
       "      <th>4</th>\n",
       "      <td>1</td>\n",
       "      <td>2024-06-10 21:00:00</td>\n",
       "      <td>light rain</td>\n",
       "      <td>13.80</td>\n",
       "      <td>13.32</td>\n",
       "      <td>1.04</td>\n",
       "      <td>0.35</td>\n",
       "      <td>1.0</td>\n",
       "      <td>2024-06-10 09:36:21</td>\n",
       "    </tr>\n",
       "    <tr>\n",
       "      <th>...</th>\n",
       "      <td>...</td>\n",
       "      <td>...</td>\n",
       "      <td>...</td>\n",
       "      <td>...</td>\n",
       "      <td>...</td>\n",
       "      <td>...</td>\n",
       "      <td>...</td>\n",
       "      <td>...</td>\n",
       "      <td>...</td>\n",
       "    </tr>\n",
       "    <tr>\n",
       "      <th>115</th>\n",
       "      <td>3</td>\n",
       "      <td>2024-06-14 18:00:00</td>\n",
       "      <td>light rain</td>\n",
       "      <td>17.65</td>\n",
       "      <td>17.53</td>\n",
       "      <td>0.23</td>\n",
       "      <td>0.72</td>\n",
       "      <td>0.2</td>\n",
       "      <td>2024-06-10 09:36:21</td>\n",
       "    </tr>\n",
       "    <tr>\n",
       "      <th>116</th>\n",
       "      <td>3</td>\n",
       "      <td>2024-06-14 21:00:00</td>\n",
       "      <td>overcast clouds</td>\n",
       "      <td>15.62</td>\n",
       "      <td>15.40</td>\n",
       "      <td>0.00</td>\n",
       "      <td>2.33</td>\n",
       "      <td>0.0</td>\n",
       "      <td>2024-06-10 09:36:21</td>\n",
       "    </tr>\n",
       "    <tr>\n",
       "      <th>117</th>\n",
       "      <td>3</td>\n",
       "      <td>2024-06-15 00:00:00</td>\n",
       "      <td>overcast clouds</td>\n",
       "      <td>14.17</td>\n",
       "      <td>13.68</td>\n",
       "      <td>0.00</td>\n",
       "      <td>1.97</td>\n",
       "      <td>0.0</td>\n",
       "      <td>2024-06-10 09:36:21</td>\n",
       "    </tr>\n",
       "    <tr>\n",
       "      <th>118</th>\n",
       "      <td>3</td>\n",
       "      <td>2024-06-15 03:00:00</td>\n",
       "      <td>overcast clouds</td>\n",
       "      <td>12.99</td>\n",
       "      <td>12.46</td>\n",
       "      <td>0.00</td>\n",
       "      <td>2.13</td>\n",
       "      <td>0.0</td>\n",
       "      <td>2024-06-10 09:36:21</td>\n",
       "    </tr>\n",
       "    <tr>\n",
       "      <th>119</th>\n",
       "      <td>3</td>\n",
       "      <td>2024-06-15 06:00:00</td>\n",
       "      <td>overcast clouds</td>\n",
       "      <td>15.89</td>\n",
       "      <td>15.44</td>\n",
       "      <td>0.00</td>\n",
       "      <td>1.74</td>\n",
       "      <td>0.0</td>\n",
       "      <td>2024-06-10 09:36:21</td>\n",
       "    </tr>\n",
       "  </tbody>\n",
       "</table>\n",
       "<p>120 rows × 9 columns</p>\n",
       "</div>"
      ],
      "text/plain": [
       "     city_id        forecast_time          outlook  temperature  feels_like  \\\n",
       "0          1  2024-06-10 09:00:00        clear sky        15.98       15.07   \n",
       "1          1  2024-06-10 12:00:00       few clouds        17.08       16.12   \n",
       "2          1  2024-06-10 15:00:00    broken clouds        16.97       16.00   \n",
       "3          1  2024-06-10 18:00:00  overcast clouds        15.75       14.97   \n",
       "4          1  2024-06-10 21:00:00       light rain        13.80       13.32   \n",
       "..       ...                  ...              ...          ...         ...   \n",
       "115        3  2024-06-14 18:00:00       light rain        17.65       17.53   \n",
       "116        3  2024-06-14 21:00:00  overcast clouds        15.62       15.40   \n",
       "117        3  2024-06-15 00:00:00  overcast clouds        14.17       13.68   \n",
       "118        3  2024-06-15 03:00:00  overcast clouds        12.99       12.46   \n",
       "119        3  2024-06-15 06:00:00  overcast clouds        15.89       15.44   \n",
       "\n",
       "     rain_in_last_3h  wind_speed  rain_prob    data_retrieved_at  \n",
       "0               0.00        3.61        0.0  2024-06-10 09:36:21  \n",
       "1               0.00        3.54        0.0  2024-06-10 09:36:21  \n",
       "2               0.00        1.63        0.0  2024-06-10 09:36:21  \n",
       "3               0.00        2.02        0.0  2024-06-10 09:36:21  \n",
       "4               1.04        0.35        1.0  2024-06-10 09:36:21  \n",
       "..               ...         ...        ...                  ...  \n",
       "115             0.23        0.72        0.2  2024-06-10 09:36:21  \n",
       "116             0.00        2.33        0.0  2024-06-10 09:36:21  \n",
       "117             0.00        1.97        0.0  2024-06-10 09:36:21  \n",
       "118             0.00        2.13        0.0  2024-06-10 09:36:21  \n",
       "119             0.00        1.74        0.0  2024-06-10 09:36:21  \n",
       "\n",
       "[120 rows x 9 columns]"
      ]
     },
     "execution_count": 20,
     "metadata": {},
     "output_type": "execute_result"
    }
   ],
   "source": [
    "weather_df"
   ]
  },
  {
   "cell_type": "code",
   "execution_count": 22,
   "id": "5462b0d7-c70a-401c-bdca-b65b823da12f",
   "metadata": {
    "id": "5462b0d7-c70a-401c-bdca-b65b823da12f",
    "outputId": "d43554a5-0ac4-4c5e-b7f1-a24a5e8ec9a8",
    "tags": []
   },
   "outputs": [
    {
     "name": "stdout",
     "output_type": "stream",
     "text": [
      "<class 'pandas.core.frame.DataFrame'>\n",
      "RangeIndex: 120 entries, 0 to 119\n",
      "Data columns (total 9 columns):\n",
      " #   Column             Non-Null Count  Dtype  \n",
      "---  ------             --------------  -----  \n",
      " 0   city_id            120 non-null    int64  \n",
      " 1   forecast_time      120 non-null    object \n",
      " 2   outlook            120 non-null    object \n",
      " 3   temperature        120 non-null    float64\n",
      " 4   feels_like         120 non-null    float64\n",
      " 5   rain_in_last_3h    120 non-null    float64\n",
      " 6   wind_speed         120 non-null    float64\n",
      " 7   rain_prob          120 non-null    float64\n",
      " 8   data_retrieved_at  120 non-null    object \n",
      "dtypes: float64(5), int64(1), object(3)\n",
      "memory usage: 8.6+ KB\n"
     ]
    }
   ],
   "source": [
    "weather_df.info()"
   ]
  },
  {
   "cell_type": "code",
   "execution_count": 24,
   "id": "217c6c81-6588-4dab-9912-20306ae8976d",
   "metadata": {
    "id": "217c6c81-6588-4dab-9912-20306ae8976d"
   },
   "outputs": [],
   "source": [
    "weather_df[\"forecast_time\"] = pd.to_datetime(weather_df[\"forecast_time\"])\n",
    "weather_df[\"data_retrieved_at\"] = pd.to_datetime(weather_df[\"data_retrieved_at\"])"
   ]
  },
  {
   "cell_type": "code",
   "execution_count": 26,
   "id": "2cba1385-0455-470c-b9f0-7de65a19a235",
   "metadata": {
    "id": "2cba1385-0455-470c-b9f0-7de65a19a235",
    "outputId": "cc63689c-8cca-4dad-d61a-a33331b1f49d",
    "tags": []
   },
   "outputs": [
    {
     "name": "stdout",
     "output_type": "stream",
     "text": [
      "<class 'pandas.core.frame.DataFrame'>\n",
      "RangeIndex: 120 entries, 0 to 119\n",
      "Data columns (total 9 columns):\n",
      " #   Column             Non-Null Count  Dtype         \n",
      "---  ------             --------------  -----         \n",
      " 0   city_id            120 non-null    int64         \n",
      " 1   forecast_time      120 non-null    datetime64[ns]\n",
      " 2   outlook            120 non-null    object        \n",
      " 3   temperature        120 non-null    float64       \n",
      " 4   feels_like         120 non-null    float64       \n",
      " 5   rain_in_last_3h    120 non-null    float64       \n",
      " 6   wind_speed         120 non-null    float64       \n",
      " 7   rain_prob          120 non-null    float64       \n",
      " 8   data_retrieved_at  120 non-null    datetime64[ns]\n",
      "dtypes: datetime64[ns](2), float64(5), int64(1), object(1)\n",
      "memory usage: 8.6+ KB\n"
     ]
    }
   ],
   "source": [
    "weather_df.info()"
   ]
  },
  {
   "cell_type": "markdown",
   "id": "b5032d24-4f12-4227-bb1e-924c8600d4a7",
   "metadata": {
    "id": "b5032d24-4f12-4227-bb1e-924c8600d4a7"
   },
   "source": [
    "## # Create \"weather\" table in the database\n",
    "\n",
    "```sql\n",
    "CREATE TABLE weather (\n",
    "\tweather_id INT AUTO_INCREMENT,\n",
    "    city_id INT NOT NULL,\n",
    "    forecast_time DATETIME,\n",
    "    outlook VARCHAR(255),\n",
    "    temperature FLOAT,\n",
    "    feels_like FLOAT,\n",
    "    rain_in_last_3h FLOAT,\n",
    "    wind_speed FLOAT,\n",
    "    rain_prob FLOAT,\n",
    "    data_retrieved_at DATETIME,\n",
    "    PRIMARY KEY (weather_id),\n",
    "    FOREIGN KEY (city_id) REFERENCES cities(city_id)\n",
    ");\n",
    "```"
   ]
  },
  {
   "cell_type": "markdown",
   "id": "b0W3Fp5Dwai0",
   "metadata": {
    "id": "b0W3Fp5Dwai0"
   },
   "source": [
    "## Push the \"weather_df\" to the empty \"weather\" table in the database"
   ]
  },
  {
   "cell_type": "code",
   "execution_count": 28,
   "id": "d864d830-50b7-4142-9f9a-229d4abac788",
   "metadata": {
    "id": "d864d830-50b7-4142-9f9a-229d4abac788"
   },
   "outputs": [
    {
     "data": {
      "text/plain": [
       "120"
      ]
     },
     "execution_count": 28,
     "metadata": {},
     "output_type": "execute_result"
    }
   ],
   "source": [
    "\n",
    "weather_df.to_sql('weather',\n",
    "                  if_exists='append',\n",
    "                  con=connection_string,\n",
    "                  index=False)"
   ]
  },
  {
   "cell_type": "markdown",
   "id": "3b0a40c0-74ba-403f-80ea-ed7b5060f815",
   "metadata": {
    "id": "3b0a40c0-74ba-403f-80ea-ed7b5060f815",
    "tags": []
   },
   "source": [
    "# Making our function work with our SQL cities data\n",
    "This section delves into a more advanced aspect of the project, which may be beyond the point many of you got to. However, it serves as an illustrative example of how to structure your work effectively. It demonstrates how we can compartmentalise various aspects of our data processing pipeline into distinct functions, enhancing code readability and facilitating debugging. It's a good idea to start writing your pipeline in a similar manner ready for the cloud.\n",
    "> This part will only work locally, not on colab. You must also create your weather table in SQL first."
   ]
  },
  {
   "cell_type": "code",
   "execution_count": 30,
   "id": "41b1bfb2-b04f-4c47-a895-32e6aa3ef707",
   "metadata": {
    "id": "41b1bfb2-b04f-4c47-a895-32e6aa3ef707"
   },
   "outputs": [],
   "source": [
    "import pandas as pd\n",
    "import requests\n",
    "from pytz import timezone\n",
    "from datetime import datetime\n",
    "# from Keys import MySQL_pass\n",
    "# from Keys import OW_API_key\n",
    "\n",
    "def retreiving_and_sending_data():\n",
    "  connection_string = connection()\n",
    "  cities_df = get_cities_data(connection_string)\n",
    "  weather_df = get_weather_data(cities_df)\n",
    "  send_weather_data(weather_df, connection_string)\n",
    "  return \"Data has been updated\"\n",
    "\n",
    "def connection():\n",
    "  schema = \"gans_local\" # The name of your database\n",
    "  host = \"127.0.0.1\"\n",
    "  user = \"root\"\n",
    "  password = \"PedregalNuria7178\"\n",
    "  port = 3306\n",
    "  return f'mysql+pymysql://{user}:{password}@{host}:{port}/{schema}'\n",
    "\n",
    "def get_cities_data(connection_string):\n",
    "  return pd.read_sql(\"cities\", con=connection_string)\n",
    "\n",
    "def get_weather_data(cities_df):\n",
    "  berlin_timezone = timezone('Europe/Berlin')\n",
    "  API_key = \"6dfcec3fec6bb7c3265fb6c07bb8e4c1\"\n",
    "  weather_items = []\n",
    "\n",
    "  for city in cities_df[\"City_name\"]:\n",
    "    url = (f\"http://api.openweathermap.org/data/2.5/forecast?q={city}&appid={API_key}&units=metric\")\n",
    "    response = requests.get(url)\n",
    "    json = response.json()\n",
    "\n",
    "    # As we are now using the data from our relational database\n",
    "    # the city should reflect the city_id and not the city name\n",
    "    city_id = cities_df.loc[cities_df[\"City_name\"] == city, \"City_id\"].values[0]\n",
    "\n",
    "    retrieval_time = datetime.now(berlin_timezone).strftime(\"%Y-%m-%d %H:%M:%S\")\n",
    "\n",
    "    for item in json[\"list\"]:\n",
    "        weather_item = {\n",
    "            \"city_id\": city_id,\n",
    "            \"forecast_time\": item.get(\"dt_txt\", None),\n",
    "            \"outlook\": item[\"weather\"][0].get(\"description\", None),\n",
    "            \"temperature\": item[\"main\"].get(\"temp\", None),\n",
    "            \"feels_like\": item[\"main\"].get(\"feels_like\", None),\n",
    "            \"rain_in_last_3h\": item.get(\"rain\", {}).get(\"3h\", 0),\n",
    "            \"wind_speed\": item[\"wind\"].get(\"speed\", None),\n",
    "            \"rain_prob\": item.get(\"pop\", None),\n",
    "            \"data_retrieved_at\": retrieval_time\n",
    "        }\n",
    "\n",
    "        weather_items.append(weather_item)\n",
    "\n",
    "  weather_df = pd.DataFrame(weather_items)\n",
    "  weather_df[\"forecast_time\"] = pd.to_datetime(weather_df[\"forecast_time\"])\n",
    "  weather_df[\"data_retrieved_at\"] = pd.to_datetime(weather_df[\"data_retrieved_at\"])\n",
    "\n",
    "  return weather_df\n",
    "\n",
    "def send_weather_data(weather_df, connection_string):\n",
    "  weather_df.to_sql('weather',\n",
    "                    if_exists='append',\n",
    "                    con=connection_string,\n",
    "                    index=False)"
   ]
  },
  {
   "cell_type": "code",
   "execution_count": 32,
   "id": "e3dad72a-1ed5-4822-897e-8fd23fa43239",
   "metadata": {
    "id": "e3dad72a-1ed5-4822-897e-8fd23fa43239",
    "outputId": "5d21653c-c991-4a1a-e821-cc729d653d97"
   },
   "outputs": [
    {
     "data": {
      "text/plain": [
       "'Data has been updated'"
      ]
     },
     "execution_count": 32,
     "metadata": {},
     "output_type": "execute_result"
    }
   ],
   "source": [
    "retreiving_and_sending_data()"
   ]
  },
  {
   "cell_type": "code",
   "execution_count": 36,
   "id": "dbd3bcb2-1a8c-4c69-9459-5e741d196a45",
   "metadata": {
    "id": "dbd3bcb2-1a8c-4c69-9459-5e741d196a45",
    "outputId": "e42e4587-0061-4a2e-ffca-f0c219451066"
   },
   "outputs": [
    {
     "data": {
      "text/html": [
       "<div>\n",
       "<style scoped>\n",
       "    .dataframe tbody tr th:only-of-type {\n",
       "        vertical-align: middle;\n",
       "    }\n",
       "\n",
       "    .dataframe tbody tr th {\n",
       "        vertical-align: top;\n",
       "    }\n",
       "\n",
       "    .dataframe thead th {\n",
       "        text-align: right;\n",
       "    }\n",
       "</style>\n",
       "<table border=\"1\" class=\"dataframe\">\n",
       "  <thead>\n",
       "    <tr style=\"text-align: right;\">\n",
       "      <th></th>\n",
       "      <th>weather_id</th>\n",
       "      <th>city_id</th>\n",
       "      <th>forecast_time</th>\n",
       "      <th>outlook</th>\n",
       "      <th>temperature</th>\n",
       "      <th>feels_like</th>\n",
       "      <th>rain_in_last_3h</th>\n",
       "      <th>wind_speed</th>\n",
       "      <th>rain_prob</th>\n",
       "      <th>data_retrieved_at</th>\n",
       "    </tr>\n",
       "  </thead>\n",
       "  <tbody>\n",
       "    <tr>\n",
       "      <th>0</th>\n",
       "      <td>1</td>\n",
       "      <td>1</td>\n",
       "      <td>2024-06-10 09:00:00</td>\n",
       "      <td>clear sky</td>\n",
       "      <td>15.98</td>\n",
       "      <td>15.07</td>\n",
       "      <td>0.00</td>\n",
       "      <td>3.61</td>\n",
       "      <td>0.0</td>\n",
       "      <td>2024-06-10 09:36:21</td>\n",
       "    </tr>\n",
       "    <tr>\n",
       "      <th>1</th>\n",
       "      <td>2</td>\n",
       "      <td>1</td>\n",
       "      <td>2024-06-10 12:00:00</td>\n",
       "      <td>few clouds</td>\n",
       "      <td>17.08</td>\n",
       "      <td>16.12</td>\n",
       "      <td>0.00</td>\n",
       "      <td>3.54</td>\n",
       "      <td>0.0</td>\n",
       "      <td>2024-06-10 09:36:21</td>\n",
       "    </tr>\n",
       "    <tr>\n",
       "      <th>2</th>\n",
       "      <td>3</td>\n",
       "      <td>1</td>\n",
       "      <td>2024-06-10 15:00:00</td>\n",
       "      <td>broken clouds</td>\n",
       "      <td>16.97</td>\n",
       "      <td>16.00</td>\n",
       "      <td>0.00</td>\n",
       "      <td>1.63</td>\n",
       "      <td>0.0</td>\n",
       "      <td>2024-06-10 09:36:21</td>\n",
       "    </tr>\n",
       "    <tr>\n",
       "      <th>3</th>\n",
       "      <td>4</td>\n",
       "      <td>1</td>\n",
       "      <td>2024-06-10 18:00:00</td>\n",
       "      <td>overcast clouds</td>\n",
       "      <td>15.75</td>\n",
       "      <td>14.97</td>\n",
       "      <td>0.00</td>\n",
       "      <td>2.02</td>\n",
       "      <td>0.0</td>\n",
       "      <td>2024-06-10 09:36:21</td>\n",
       "    </tr>\n",
       "    <tr>\n",
       "      <th>4</th>\n",
       "      <td>5</td>\n",
       "      <td>1</td>\n",
       "      <td>2024-06-10 21:00:00</td>\n",
       "      <td>light rain</td>\n",
       "      <td>13.80</td>\n",
       "      <td>13.32</td>\n",
       "      <td>1.04</td>\n",
       "      <td>0.35</td>\n",
       "      <td>1.0</td>\n",
       "      <td>2024-06-10 09:36:21</td>\n",
       "    </tr>\n",
       "    <tr>\n",
       "      <th>...</th>\n",
       "      <td>...</td>\n",
       "      <td>...</td>\n",
       "      <td>...</td>\n",
       "      <td>...</td>\n",
       "      <td>...</td>\n",
       "      <td>...</td>\n",
       "      <td>...</td>\n",
       "      <td>...</td>\n",
       "      <td>...</td>\n",
       "      <td>...</td>\n",
       "    </tr>\n",
       "    <tr>\n",
       "      <th>235</th>\n",
       "      <td>236</td>\n",
       "      <td>3</td>\n",
       "      <td>2024-06-14 18:00:00</td>\n",
       "      <td>light rain</td>\n",
       "      <td>17.65</td>\n",
       "      <td>17.53</td>\n",
       "      <td>0.23</td>\n",
       "      <td>0.72</td>\n",
       "      <td>0.2</td>\n",
       "      <td>2024-06-10 09:37:44</td>\n",
       "    </tr>\n",
       "    <tr>\n",
       "      <th>236</th>\n",
       "      <td>237</td>\n",
       "      <td>3</td>\n",
       "      <td>2024-06-14 21:00:00</td>\n",
       "      <td>overcast clouds</td>\n",
       "      <td>15.62</td>\n",
       "      <td>15.40</td>\n",
       "      <td>0.00</td>\n",
       "      <td>2.33</td>\n",
       "      <td>0.0</td>\n",
       "      <td>2024-06-10 09:37:44</td>\n",
       "    </tr>\n",
       "    <tr>\n",
       "      <th>237</th>\n",
       "      <td>238</td>\n",
       "      <td>3</td>\n",
       "      <td>2024-06-15 00:00:00</td>\n",
       "      <td>overcast clouds</td>\n",
       "      <td>14.17</td>\n",
       "      <td>13.68</td>\n",
       "      <td>0.00</td>\n",
       "      <td>1.97</td>\n",
       "      <td>0.0</td>\n",
       "      <td>2024-06-10 09:37:44</td>\n",
       "    </tr>\n",
       "    <tr>\n",
       "      <th>238</th>\n",
       "      <td>239</td>\n",
       "      <td>3</td>\n",
       "      <td>2024-06-15 03:00:00</td>\n",
       "      <td>overcast clouds</td>\n",
       "      <td>12.99</td>\n",
       "      <td>12.46</td>\n",
       "      <td>0.00</td>\n",
       "      <td>2.13</td>\n",
       "      <td>0.0</td>\n",
       "      <td>2024-06-10 09:37:44</td>\n",
       "    </tr>\n",
       "    <tr>\n",
       "      <th>239</th>\n",
       "      <td>240</td>\n",
       "      <td>3</td>\n",
       "      <td>2024-06-15 06:00:00</td>\n",
       "      <td>overcast clouds</td>\n",
       "      <td>15.89</td>\n",
       "      <td>15.44</td>\n",
       "      <td>0.00</td>\n",
       "      <td>1.74</td>\n",
       "      <td>0.0</td>\n",
       "      <td>2024-06-10 09:37:44</td>\n",
       "    </tr>\n",
       "  </tbody>\n",
       "</table>\n",
       "<p>240 rows × 10 columns</p>\n",
       "</div>"
      ],
      "text/plain": [
       "     weather_id  city_id       forecast_time          outlook  temperature  \\\n",
       "0             1        1 2024-06-10 09:00:00        clear sky        15.98   \n",
       "1             2        1 2024-06-10 12:00:00       few clouds        17.08   \n",
       "2             3        1 2024-06-10 15:00:00    broken clouds        16.97   \n",
       "3             4        1 2024-06-10 18:00:00  overcast clouds        15.75   \n",
       "4             5        1 2024-06-10 21:00:00       light rain        13.80   \n",
       "..          ...      ...                 ...              ...          ...   \n",
       "235         236        3 2024-06-14 18:00:00       light rain        17.65   \n",
       "236         237        3 2024-06-14 21:00:00  overcast clouds        15.62   \n",
       "237         238        3 2024-06-15 00:00:00  overcast clouds        14.17   \n",
       "238         239        3 2024-06-15 03:00:00  overcast clouds        12.99   \n",
       "239         240        3 2024-06-15 06:00:00  overcast clouds        15.89   \n",
       "\n",
       "     feels_like  rain_in_last_3h  wind_speed  rain_prob   data_retrieved_at  \n",
       "0         15.07             0.00        3.61        0.0 2024-06-10 09:36:21  \n",
       "1         16.12             0.00        3.54        0.0 2024-06-10 09:36:21  \n",
       "2         16.00             0.00        1.63        0.0 2024-06-10 09:36:21  \n",
       "3         14.97             0.00        2.02        0.0 2024-06-10 09:36:21  \n",
       "4         13.32             1.04        0.35        1.0 2024-06-10 09:36:21  \n",
       "..          ...              ...         ...        ...                 ...  \n",
       "235       17.53             0.23        0.72        0.2 2024-06-10 09:37:44  \n",
       "236       15.40             0.00        2.33        0.0 2024-06-10 09:37:44  \n",
       "237       13.68             0.00        1.97        0.0 2024-06-10 09:37:44  \n",
       "238       12.46             0.00        2.13        0.0 2024-06-10 09:37:44  \n",
       "239       15.44             0.00        1.74        0.0 2024-06-10 09:37:44  \n",
       "\n",
       "[240 rows x 10 columns]"
      ]
     },
     "execution_count": 36,
     "metadata": {},
     "output_type": "execute_result"
    }
   ],
   "source": [
    "pd.read_sql(\"weather\", con=connection_string)"
   ]
  },
  {
   "cell_type": "code",
   "execution_count": 4,
   "id": "c1375662-931e-4896-81bd-70dd3b0bf477",
   "metadata": {
    "id": "c1375662-931e-4896-81bd-70dd3b0bf477"
   },
   "outputs": [
    {
     "name": "stdout",
     "output_type": "stream",
     "text": [
      "Collecting functions-framework\n",
      "  Downloading functions_framework-3.7.0-py3-none-any.whl.metadata (16 kB)\n",
      "Requirement already satisfied: flask<4.0,>=1.0 in c:\\users\\namez\\anaconda3\\lib\\site-packages (from functions-framework) (2.2.5)\n",
      "Requirement already satisfied: click<9.0,>=7.0 in c:\\users\\namez\\anaconda3\\lib\\site-packages (from functions-framework) (8.1.7)\n",
      "Requirement already satisfied: watchdog>=1.0.0 in c:\\users\\namez\\anaconda3\\lib\\site-packages (from functions-framework) (2.1.6)\n",
      "Collecting cloudevents<2.0.0,>=1.2.0 (from functions-framework)\n",
      "  Downloading cloudevents-1.10.1-py3-none-any.whl.metadata (6.9 kB)\n",
      "Requirement already satisfied: Werkzeug<4.0.0,>=0.14 in c:\\users\\namez\\anaconda3\\lib\\site-packages (from functions-framework) (2.2.3)\n",
      "Requirement already satisfied: colorama in c:\\users\\namez\\anaconda3\\lib\\site-packages (from click<9.0,>=7.0->functions-framework) (0.4.6)\n",
      "Collecting deprecation<3.0,>=2.0 (from cloudevents<2.0.0,>=1.2.0->functions-framework)\n",
      "  Downloading deprecation-2.1.0-py2.py3-none-any.whl.metadata (4.6 kB)\n",
      "Requirement already satisfied: Jinja2>=3.0 in c:\\users\\namez\\anaconda3\\lib\\site-packages (from flask<4.0,>=1.0->functions-framework) (3.1.3)\n",
      "Requirement already satisfied: itsdangerous>=2.0 in c:\\users\\namez\\anaconda3\\lib\\site-packages (from flask<4.0,>=1.0->functions-framework) (2.0.1)\n",
      "Requirement already satisfied: MarkupSafe>=2.1.1 in c:\\users\\namez\\anaconda3\\lib\\site-packages (from Werkzeug<4.0.0,>=0.14->functions-framework) (2.1.3)\n",
      "Requirement already satisfied: packaging in c:\\users\\namez\\anaconda3\\lib\\site-packages (from deprecation<3.0,>=2.0->cloudevents<2.0.0,>=1.2.0->functions-framework) (23.1)\n",
      "Downloading functions_framework-3.7.0-py3-none-any.whl (35 kB)\n",
      "Downloading cloudevents-1.10.1-py3-none-any.whl (55 kB)\n",
      "   ---------------------------------------- 0.0/55.0 kB ? eta -:--:--\n",
      "   ---------------------------------------- 55.0/55.0 kB 3.0 MB/s eta 0:00:00\n",
      "Downloading deprecation-2.1.0-py2.py3-none-any.whl (11 kB)\n",
      "Installing collected packages: deprecation, cloudevents, functions-framework\n",
      "Successfully installed cloudevents-1.10.1 deprecation-2.1.0 functions-framework-3.7.0\n",
      "Note: you may need to restart the kernel to use updated packages.\n"
     ]
    }
   ],
   "source": [
    "pip install functions-framework"
   ]
  },
  {
   "cell_type": "code",
   "execution_count": 8,
   "id": "f52ff4d7-6dca-4c71-9880-72aa90823963",
   "metadata": {},
   "outputs": [
    {
     "ename": "SyntaxError",
     "evalue": "cannot assign to expression here. Maybe you meant '==' instead of '='? (2802470956.py, line 1)",
     "output_type": "error",
     "traceback": [
      "\u001b[1;36m  Cell \u001b[1;32mIn[8], line 1\u001b[1;36m\u001b[0m\n\u001b[1;33m    functions-framework --target=weather_update --debug\u001b[0m\n\u001b[1;37m    ^\u001b[0m\n\u001b[1;31mSyntaxError\u001b[0m\u001b[1;31m:\u001b[0m cannot assign to expression here. Maybe you meant '==' instead of '='?\n"
     ]
    }
   ],
   "source": [
    "functions-framework --target=weather_update --debug"
   ]
  }
 ],
 "metadata": {
  "colab": {
   "provenance": []
  },
  "kernelspec": {
   "display_name": "Python 3 (ipykernel)",
   "language": "python",
   "name": "python3"
  },
  "language_info": {
   "codemirror_mode": {
    "name": "ipython",
    "version": 3
   },
   "file_extension": ".py",
   "mimetype": "text/x-python",
   "name": "python",
   "nbconvert_exporter": "python",
   "pygments_lexer": "ipython3",
   "version": "3.11.7"
  }
 },
 "nbformat": 4,
 "nbformat_minor": 5
}
